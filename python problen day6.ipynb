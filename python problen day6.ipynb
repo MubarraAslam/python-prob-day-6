{
 "cells": [
  {
   "cell_type": "markdown",
   "id": "1ad713ab-5cb7-460f-88a9-1f9df3db6df1",
   "metadata": {},
   "source": [
    "# Question 1"
   ]
  },
  {
   "cell_type": "markdown",
   "id": "2ef56a41-4e88-4bfe-a832-7fe41e8d9a9e",
   "metadata": {},
   "source": [
    "-> Simple If-else Statement\r\n",
    "Write a program that takes an integer input from the user and prints \"Even\" if the number \r\n",
    "is even, and \"Odd\" if the number is odd. "
   ]
  },
  {
   "cell_type": "code",
   "execution_count": 2,
   "id": "951ff97e-c05c-4ce2-961b-5da55091a351",
   "metadata": {},
   "outputs": [
    {
     "name": "stdin",
     "output_type": "stream",
     "text": [
      "enter any number 12\n"
     ]
    },
    {
     "name": "stdout",
     "output_type": "stream",
     "text": [
      "Even\n"
     ]
    }
   ],
   "source": [
    "number=int(input(\"enter any number\"))\n",
    "if number % 2 == 0:\n",
    "    print(\"Even\")\n",
    "else:\n",
    "    print(\"Odd\")\n",
    "\n",
    "    \n",
    "      \n",
    "      "
   ]
  },
  {
   "cell_type": "markdown",
   "id": "6c22ddeb-0adf-41b8-a8d9-1fbb0fb4e3f1",
   "metadata": {},
   "source": [
    "# Question 2"
   ]
  },
  {
   "cell_type": "markdown",
   "id": "efbaf63d-033c-4111-b4bc-697dcd9c34bd",
   "metadata": {},
   "source": [
    "->Write both Pseudo code and Syntax-based code (formal code).\n",
    "Q1: You are developing a discount system for an online store. Write a program that takes the \n",
    "total purchase amount as input and prints the applicable discount according to the following \n",
    "criteria:\n",
    "Total Purchase Amount >= $1000: 20% Discount\n",
    "$500 <= Total Purchase Amount < $1000: 10% Discount\n",
    "$100 <= Total Purchase Amount < $500: 5% Discount\n",
    "Total Purchase Amount < $100: No Discount"
   ]
  },
  {
   "cell_type": "markdown",
   "id": "1136078f-710d-4617-b944-28b28f958dbf",
   "metadata": {},
   "source": [
    "#Pseudo code\n",
    "if total purchase greater or equal to $1000 then 20% discount will be given\n",
    "if total purchase greater or equal to $500 and less than $1000 then 10% discount will be given\n",
    "if total purchase greater or equal to $100 and less than $500 then 5% discount will be given\n",
    "if total purchase less than $100 no discount will be given"
   ]
  },
  {
   "cell_type": "code",
   "execution_count": 14,
   "id": "67d97d33-e1e4-47f7-ac23-d5bfc887c6a9",
   "metadata": {},
   "outputs": [
    {
     "name": "stdin",
     "output_type": "stream",
     "text": [
      "Enter total purchase amount 30.5\n"
     ]
    },
    {
     "name": "stdout",
     "output_type": "stream",
     "text": [
      "Oops! you got no discount \n"
     ]
    }
   ],
   "source": [
    "purchase=float(input(\"Enter total purchase amount\"))\n",
    "if purchase >= 1000:\n",
    "    print(\"Congrats!you got 20% discount on this purchase\")\n",
    "\n",
    "elif 500 <= purchase < 1000:\n",
    "    print (\"Congrats!you got 10% discount on this purchse\")\n",
    "elif 100 <= purchase < 500:\n",
    "    print (\"Congrats!you got 5% discount on this purchse\")\n",
    "else: \n",
    "    print (\"Oops! you got no discount \")"
   ]
  },
  {
   "cell_type": "markdown",
   "id": "2d3f72ee-c77f-4aec-9fc0-a2c70448dd0e",
   "metadata": {},
   "source": [
    "Q2: You are developing a grading system for Army Public School. \n",
    "Write a program that takes a student's score as input and prints their grade according to the \n",
    "following criteria:\n",
    "Score >= 90: Grade A\n",
    "80 <= Score < 90: Grade B\n",
    "70 <= Score < 80: Grade C\n",
    "60 <= Score < 70: Grade D\n",
    "Score < 60: Grade F"
   ]
  },
  {
   "cell_type": "code",
   "execution_count": 18,
   "id": "33babf6b-664d-4c5f-8f1d-6faa843dbe17",
   "metadata": {},
   "outputs": [
    {
     "name": "stdin",
     "output_type": "stream",
     "text": [
      "Enter your score 80.67\n"
     ]
    },
    {
     "name": "stdout",
     "output_type": "stream",
     "text": [
      "you passed your exams with Grade B\n"
     ]
    }
   ],
   "source": [
    "score=float(input(\"Enter your score\"))\n",
    "if score >= 90:\n",
    "    print(\"you passed your exams with Grade A\")\n",
    "elif 80 <= score < 90:\n",
    "    print(\"you passed your exams with Grade B\")\n",
    "elif 70 <= score < 80:\n",
    "    print(\"you passed your exams with Grade C\")\n",
    "elif 60 <= score < 70:\n",
    "    print(\"you passed your exams with Grade D\")\n",
    "else:\n",
    "    print(\"Sorry! you did not pass the exam try again\")\n",
    "            "
   ]
  },
  {
   "cell_type": "markdown",
   "id": "943e0c71-1ffe-48cc-b72e-528c76776b3c",
   "metadata": {},
   "source": [
    "# Question 3"
   ]
  },
  {
   "cell_type": "code",
   "execution_count": null,
   "id": "1aeeeff0-3a84-4a31-894b-f0151b69e3dc",
   "metadata": {},
   "outputs": [],
   "source": [
    "Explain the difference between a regular if-else statement and a one-line if-else \n",
    "statement in terms of syntax and usage. Explain with an example of each and also, explain \n",
    "when you would prefer to use one over the other"
   ]
  },
  {
   "cell_type": "markdown",
   "id": "d6ccab81-5f8c-490f-b7a5-8f1e6873a6c7",
   "metadata": {},
   "source": [
    "1. if-else->  if else statement is structured way to write condition. More line of code is written which is readable\n",
    "   Syntax:\n",
    "        if (condition)\n",
    "            print(\"    \")\n",
    "        else:\n",
    "            print(\"    \")\n",
    "   for example:\n",
    "        if age == 18\n",
    "           print(\"you can vote this year\")\n",
    "        else:\n",
    "           print(\"you can't vote this year try again\")\n",
    "\n",
    "3. one-line if-else->  one line if else is one line code in which if(true) else statement witten in one line which is less readable and complex\n",
    "   Syntax:\n",
    "        expression_if_true if condition else expression_if_false\n",
    "   for example:\n",
    "        age == 18\n",
    "        message = \"you can vote\" if age >= 18 else \"you can't vote\"\n",
    "   "
   ]
  },
  {
   "cell_type": "markdown",
   "id": "61c825a5-59f7-471b-9044-9c3378023b0a",
   "metadata": {},
   "source": [
    "# Question 4"
   ]
  },
  {
   "cell_type": "code",
   "execution_count": null,
   "id": "68966703-6b98-4edb-9346-145e1c26ea38",
   "metadata": {},
   "outputs": [],
   "source": [
    "Scenario:\n",
    "You are designing a ride-sharing app. As part of the app, you need to calculate \n",
    "the fare for a ride based on the distance travelled and the time taken. The fare \n",
    "calculation includes base fare, distance fare, and time fare. However, there are \n",
    "different pricing tiers based on the type of vehicle selected by the user: \n",
    "standard car, luxury car, or SUV. Each vehicle type has its own base fare and \n",
    "additional charges per kilometres and per minute.\n",
    "Problem Statement:\n",
    "Write a program that calculates the fare for a ride based on the distance \n",
    "travelled (in kilometres) and the time taken (in minutes), considering different \n",
    "vehicle types and their corresponding pricing tiers. Ensure that the program \n",
    "properly handles nested if-else statements to determine the fare based on the \n",
    "selected vehicle type and the distance/time travelled.\n",
    "Hints:\n",
    "Vehicle Type Base Fare Fare per KM Fare per Minute\n",
    "Standard Car $5 $0.50 $0.25\n",
    "Luxury Car $10 $1.00 $0.50\n",
    "SUV $15 $1.50 $0.75"
   ]
  },
  {
   "cell_type": "code",
   "execution_count": 21,
   "id": "ea57560c-c93b-4329-a3da-c373debd6f87",
   "metadata": {},
   "outputs": [
    {
     "name": "stdin",
     "output_type": "stream",
     "text": [
      "enter vehicle type(car, luxury car, SUV): SUV\n",
      "Enter distance in km 12\n",
      "enetr time in minutes 20\n"
     ]
    },
    {
     "name": "stdout",
     "output_type": "stream",
     "text": [
      "the total fare for SUV ride : $ 48.0\n"
     ]
    }
   ],
   "source": [
    "vehicle=input(\"enter vehicle type(car, luxury car, SUV):\" )\n",
    "if vehicle =='car':\n",
    "    distance=float(input(\"Enter distance in km\"))\n",
    "    time=float(input(\"enetr time in minutes\"))\n",
    "    base_fare=5\n",
    "    fare=base_fare + distance*0.5 + time*0.25\n",
    "    print(\"the total fare for\", vehicle, \"ride : $\" , fare)\n",
    "elif vehicle =='luxury car':\n",
    "    distance=float(input(\"Enter distance in km\"))\n",
    "    time=float(input(\"enetr time in minutes\"))\n",
    "    base_fare=10\n",
    "    fare=base_fare + distance*1.00 + time*0.50\n",
    "    print(\"the total fare for\", vehicle, \"ride : $\" , fare)\n",
    "    \n",
    "elif vehicle == 'SUV':\n",
    "    distance=float(input(\"Enter distance in km\"))\n",
    "    time=float(input(\"enetr time in minutes\"))\n",
    "    base_fare=15\n",
    "    fare=base_fare + distance*1.50 + time*0.75\n",
    "    print(\"the total fare for\", vehicle, \"ride : $\" , fare)\n",
    "else:\n",
    "    print(\"you did not enter the valid vehicle or distance or time\")\n",
    "              "
   ]
  },
  {
   "cell_type": "code",
   "execution_count": null,
   "id": "fc08ea15-ee88-459c-b624-ce24a1d5d9a9",
   "metadata": {},
   "outputs": [],
   "source": []
  }
 ],
 "metadata": {
  "kernelspec": {
   "display_name": "Python 3 (ipykernel)",
   "language": "python",
   "name": "python3"
  },
  "language_info": {
   "codemirror_mode": {
    "name": "ipython",
    "version": 3
   },
   "file_extension": ".py",
   "mimetype": "text/x-python",
   "name": "python",
   "nbconvert_exporter": "python",
   "pygments_lexer": "ipython3",
   "version": "3.11.7"
  }
 },
 "nbformat": 4,
 "nbformat_minor": 5
}
