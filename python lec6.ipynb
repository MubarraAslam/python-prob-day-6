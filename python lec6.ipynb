{
 "cells": [
  {
   "cell_type": "markdown",
   "id": "8d7155ac-ffcf-4e20-ae2c-f853db25d11d",
   "metadata": {},
   "source": [
    "# Control Structure"
   ]
  },
  {
   "cell_type": "markdown",
   "id": "d20e0e5a-e5d2-472f-9f99-bebb8e07fbc0",
   "metadata": {},
   "source": [
    "# if-else"
   ]
  },
  {
   "cell_type": "markdown",
   "id": "59ab80f5-e0dd-4e5b-99f9-c171e06968fa",
   "metadata": {},
   "source": [
    "calcultor"
   ]
  },
  {
   "cell_type": "code",
   "execution_count": null,
   "id": "cf53f841-68c5-402a-bb92-a32eb9e18944",
   "metadata": {},
   "outputs": [],
   "source": [
    "# scenerio\n",
    "1.Take two numbers from user and store then into variable\n",
    "2.take choice form user + - * /\n",
    "3.Compute-> if elif else"
   ]
  },
  {
   "cell_type": "code",
   "execution_count": 4,
   "id": "46fda37a-6f5e-45d0-b38b-41d24989ee60",
   "metadata": {},
   "outputs": [
    {
     "name": "stdin",
     "output_type": "stream",
     "text": [
      "Enter 1st value 12\n",
      "Enter 2nd value 13\n",
      "Enter operatore +, -, *, / /\n"
     ]
    },
    {
     "name": "stdout",
     "output_type": "stream",
     "text": [
      "The result of division is 0.9230769230769231\n"
     ]
    }
   ],
   "source": [
    "num1=float(input(\"Enter 1st value\"))\n",
    "num2=float(input(\"Enter 2nd value\"))\n",
    "choice=input(\"Enter operatore +, -, *, /\")\n",
    "if choice =='+':\n",
    "    result=num1+num2\n",
    "    print(\"The result of addition is\", result)\n",
    "elif choice =='-':\n",
    "    result=num1-num2\n",
    "    print(\"The result of subtraction is\", result)\n",
    "\n",
    "elif choice =='*':\n",
    "    result=num1*num2\n",
    "    print(\"The result of multiply is\", result)\n",
    "\n",
    "elif choice =='/':\n",
    "    result=num1/num2\n",
    "    print(\"The result of division is\", result)\n",
    "\n",
    "else:\n",
    "    print(\"enter relevant Operator\")"
   ]
  },
  {
   "cell_type": "code",
   "execution_count": null,
   "id": "5e1b43c2-79ab-41ab-9e7d-7500cd7547b7",
   "metadata": {},
   "outputs": [],
   "source": []
  }
 ],
 "metadata": {
  "kernelspec": {
   "display_name": "Python 3 (ipykernel)",
   "language": "python",
   "name": "python3"
  },
  "language_info": {
   "codemirror_mode": {
    "name": "ipython",
    "version": 3
   },
   "file_extension": ".py",
   "mimetype": "text/x-python",
   "name": "python",
   "nbconvert_exporter": "python",
   "pygments_lexer": "ipython3",
   "version": "3.11.7"
  }
 },
 "nbformat": 4,
 "nbformat_minor": 5
}
